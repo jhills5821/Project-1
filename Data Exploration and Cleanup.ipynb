{
 "cells": [
  {
   "cell_type": "code",
   "execution_count": 93,
   "metadata": {},
   "outputs": [],
   "source": [
    "import matplotlib.pyplot as plt\n",
    "import pandas as pd\n",
    "import numpy as np\n",
    "\n",
    "# import csv's\n",
    "median_income = pd.read_csv(\"./Input Files/Median Income.csv\", encoding='latin1')\n",
    "median_home_value_acs = pd.read_csv(\"./Input Files/Median Home Value - ACS.csv\", encoding='latin1')\n",
    "zillow_home_value = pd.read_csv(\"./Input Files/Zillow Home Value.csv\", encoding='latin1')\n",
    "zillow_bottom_tier = pd.read_csv(\"./Input Files/Zillow Bottom Tier Home Value.csv\", encoding='latin1')\n",
    "zillow_top_tier = pd.read_csv(\"./Input Files/Zillow Top Tier Home Value.csv\", encoding='latin1')\n"
   ]
  },
  {
   "cell_type": "code",
   "execution_count": 94,
   "metadata": {},
   "outputs": [],
   "source": [
    "#refine data by selecting relevant columns and renaming columns\n",
    "median_income = median_income[[\"Geography\",\"County\",\"state\",\"Mean income (dollars); Estimate; All households\"]]\n",
    "median_income = median_income.rename(columns={\"state\":\"State\",\"Mean income (dollars); Estimate; All households\":\"Median Income\"})\n",
    "\n",
    "median_home_value_acs = median_home_value_acs[[\"Geography\",\"Estimate; Median value (dollars)\"]]\n",
    "median_home_value_acs = median_home_value_acs.rename(columns={\"Estimate; Median value (dollars)\":\"ACS Home Value\"})\n",
    "\n",
    "zillow_home_value = zillow_home_value[[\"geography\",\"Zhvi\"]]\n",
    "zillow_home_value = zillow_home_value.rename(columns={\"geography\":\"Geography\",\"Zhvi\":\"Zillow Home Value\"})\n",
    "\n",
    "zillow_bottom_tier = zillow_bottom_tier[[\"Geography\",\"2018-12\"]]\n",
    "zillow_bottom_tier = zillow_bottom_tier.rename(columns={\"2018-12\":\"Zillow Bottom Tier Home Value\"})\n",
    "\n",
    "zillow_top_tier = zillow_top_tier[[\"Geography\",\"2018-12\"]]\n",
    "zillow_top_tier = zillow_top_tier.rename(columns={\"2018-12\":\"Zillow Top Tier Home Value\"})\n",
    "\n",
    "#create a csv for the county and state data\n",
    "output_data = median_income[[\"Geography\",\"County\",\"State\"]]\n",
    "\n",
    "output_data.to_csv(\"./Output Files/State and County Info.csv\", index=False, header=True)"
   ]
  },
  {
   "cell_type": "code",
   "execution_count": 95,
   "metadata": {},
   "outputs": [
    {
     "data": {
      "text/plain": [
       "Geography                        3142\n",
       "County                           3142\n",
       "State                            3142\n",
       "Median Income                    3142\n",
       "ACS Home Value                   3142\n",
       "Zillow Home Value                1836\n",
       "Zillow Bottom Tier Home Value    1544\n",
       "Zillow Top Tier Home Value       1874\n",
       "dtype: int64"
      ]
     },
     "execution_count": 95,
     "metadata": {},
     "output_type": "execute_result"
    }
   ],
   "source": [
    "#merge data into one table\n",
    "data_table = pd.merge(median_income,median_home_value_acs,how='left',on='Geography')\n",
    "data_table = pd.merge(data_table,zillow_home_value,how='left', on='Geography')\n",
    "data_table = pd.merge(data_table,zillow_bottom_tier,how='left', on='Geography')\n",
    "data_table = pd.merge(data_table,zillow_top_tier,how='left', on='Geography')\n",
    "data_table.head(100)\n",
    "data_table.count()"
   ]
  },
  {
   "cell_type": "code",
   "execution_count": null,
   "metadata": {},
   "outputs": [],
   "source": []
  }
 ],
 "metadata": {
  "kernelspec": {
   "display_name": "Python 3",
   "language": "python",
   "name": "python3"
  },
  "language_info": {
   "codemirror_mode": {
    "name": "ipython",
    "version": 3
   },
   "file_extension": ".py",
   "mimetype": "text/x-python",
   "name": "python",
   "nbconvert_exporter": "python",
   "pygments_lexer": "ipython3",
   "version": "3.7.0"
  }
 },
 "nbformat": 4,
 "nbformat_minor": 2
}
