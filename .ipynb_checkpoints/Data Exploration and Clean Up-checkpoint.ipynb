{
 "cells": [
  {
   "cell_type": "markdown",
   "metadata": {},
   "source": [
    "# What influences home value more weather or location?\n",
    "\n",
    "## Data Collection Plan/Strategy\n",
    "\n",
    " - First I collected census data for median income and median home value for every county in the US\n",
    " - Then I edited the census CVS's in Excel to get rid of unnessecary rows and ID columns. I also added columns to break out county name and state into 2 columns.\n",
    " - I then extracted data from Zillow for the Zillow Home Index, Zillow Bottom Tier Home Value and Zillow Top Tier Home Value. I needed to convert state abbreviations to full state names and concatenate the county name with the state name to have the same labels as the census data.\n",
    " - I then imported all of the data from the census and Zillow from the Raw Data Fiiles folder into the Income and Home Value Data Clean Up jupyter notebook to combine all of the data into one data set, this was then exported a CSV in to the Input Files folder as Income and Housing Data. I also exported a CSV that just included state and county information to the Interim Files Folder to use with the Google geolocation API.\n",
    " - I then imported the state and county data into the Get Lat and Lng for Counties jupyter notebook and made calls to the Google geocode API to collect latitude and longitude data. I exported a CSV to Interim Data Files to use with the weather data API.\n",
    " - I then used the state and county daya with latitude and longitude to make API calls to aWhere's Historical Norms API to collect weather data for each county. I exported a CSV to Input Data to use in my final analysis.\n",
    " - I then imported the Income and Housing Data CSV and the Weather Data CSV to the Final Data Cleanup and Plot Generation jupyter notebook. I then merged the data into one data set and generated various graphs to communicate the trends observed in the data. I also exported a CSV and all of my plots to the Output Files Folder.\n",
    " - For my final analysis I compiled my note on the trends observed and displayed my charts in the Final Data Analysis jupyter notebook."
   ]
  },
  {
   "cell_type": "code",
   "execution_count": null,
   "metadata": {},
   "outputs": [],
   "source": []
  }
 ],
 "metadata": {
  "kernelspec": {
   "display_name": "Python 3",
   "language": "python",
   "name": "python3"
  },
  "language_info": {
   "codemirror_mode": {
    "name": "ipython",
    "version": 3
   },
   "file_extension": ".py",
   "mimetype": "text/x-python",
   "name": "python",
   "nbconvert_exporter": "python",
   "pygments_lexer": "ipython3",
   "version": "3.7.0"
  }
 },
 "nbformat": 4,
 "nbformat_minor": 2
}
